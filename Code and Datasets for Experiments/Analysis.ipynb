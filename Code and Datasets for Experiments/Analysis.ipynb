{
 "cells": [
  {
   "attachments": {},
   "cell_type": "markdown",
   "metadata": {},
   "source": [
    "## Replication and Extension of Paper:\n",
    "\n",
    "Dobs, Katharina & Yuan, Joanne & Martinez, Julio & Kanwisher, Nancy. (2022). Using deep convolutional neural networks to test why human face recognition works the way it does. 10.1101/2022.11.23.517478. \n"
   ]
  },
  {
   "cell_type": "code",
   "execution_count": 32,
   "metadata": {},
   "outputs": [],
   "source": [
    "import os\n",
    "from sklearn.metrics.pairwise import pairwise_distances\n",
    "from scipy.spatial.distance import correlation\n",
    "import torch\n",
    "from torchvision import transforms\n",
    "from PIL import Image\n",
    "from scipy.stats import spearmanr\n",
    "import numpy as np\n",
    "from facenet_pytorch import InceptionResnetV1, MTCNN\n",
    "from scipy.stats import pearsonr\n",
    "import torchvision.models as models\n",
    "import matplotlib.pyplot as plt\n",
    "import torch.nn as nn\n",
    "import torchvision.transforms as transforms\n",
    "from torch.utils.data import DataLoader\n",
    "from torchvision.datasets import ImageFolder\n",
    "from torchvision.models import vgg16\n",
    "from tqdm.notebook import tqdm\n",
    "from torch.autograd import Variable\n",
    "import matplotlib.pyplot as plt\n",
    "from sklearn.metrics import pairwise_distances"
   ]
  },
  {
   "cell_type": "code",
   "execution_count": 2,
   "metadata": {},
   "outputs": [],
   "source": [
    "# Defining functions for preprocessing images\n",
    "\n",
    "transform = transforms.Compose([\n",
    "    transforms.Resize(256),\n",
    "    transforms.CenterCrop(224),\n",
    "    transforms.ToTensor(),\n",
    "    transforms.Normalize(mean=[0.5, 0.5, 0.5], std=[0.5, 0.5, 0.5])\n",
    "])\n",
    "\n",
    "preprocess = transforms.Compose([\n",
    "    transforms.Resize((160, 160)),\n",
    "    transforms.ToTensor(),\n",
    "    transforms.Normalize(mean=[0.5, 0.5, 0.5], std=[0.5, 0.5, 0.5])\n",
    "])"
   ]
  },
  {
   "cell_type": "code",
   "execution_count": 3,
   "metadata": {},
   "outputs": [],
   "source": [
    "def load_model(name,num_classes):\n",
    "    \n",
    "    model = models.vgg16()\n",
    "    \n",
    "    for param in model.parameters():\n",
    "        param.requires_grad = False\n",
    "    \n",
    "    # Replace the classifier layer to match the number of classes in your problem\n",
    "    \n",
    "    num_features = model.classifier[6].in_features\n",
    "    model.classifier[6] = nn.Linear(num_features, num_classes)\n",
    "    \n",
    "    # model.load_state_dict(torch.load('../models/'+name+'.pth')) #if you wish to load model from GPU\n",
    "    model.load_state_dict(torch.load('../models/'+name+'.pth', map_location=torch.device('cpu'))) #if you wish to load model from CPU\n",
    "    \n",
    "    model.eval()\n",
    "    \n",
    "    return model"
   ]
  },
  {
   "cell_type": "code",
   "execution_count": 5,
   "metadata": {},
   "outputs": [],
   "source": [
    "#Declaring the pretrained models used:\n",
    "\n",
    "FACE_ID_CNN = InceptionResnetV1(pretrained='vggface2').eval()\n",
    "UNTRAINED = models.vgg16(pretrained=False)\n",
    "OBJ_CLASSIFICATION = models.vgg16(pretrained=True)\n",
    "# FACE_FEATURE_EXTRACTION = MTCNN(image_size=160, margin=0, min_face_size=20, thresholds=[0.6, 0.7, 0.7], factor=0.709, post_process=True)\n"
   ]
  },
  {
   "cell_type": "code",
   "execution_count": 10,
   "metadata": {},
   "outputs": [],
   "source": [
    "FACE_ID_INVERTED_CNN = load_model('Face_ID_Inverted_CNN', 101)\n",
    "# FACE_ID_ASIAN_CNN = load_model('Asian_Face_ID_CNN',107)\n",
    "# FACE_ID_WHITE_CNN = load_model('White_Face_ID_CNN', 115)\n",
    "# CARS_CNN = load_model('Cars_CNN',43 )\n",
    "# OBJ_FACE_CLASSIFICATION = load_model_name('Obj_Face_Classification')\n",
    "# FACE_ID_CNN_2 = load_model_name('Face_ID_CNN_2')\n",
    "FACE_ID_CNN_2 = load_model('Face_ID_CNN_2', 101)\n"
   ]
  },
  {
   "cell_type": "code",
   "execution_count": 8,
   "metadata": {},
   "outputs": [],
   "source": [
    "\n",
    "def target_matching_vgg16(model, stimuli_path, start_num,end_num):\n",
    "    image_folder = stimuli_path\n",
    "    image_paths = [os.path.join(image_folder, f) for f in os.listdir(image_folder) if f.endswith('.jpg')]\n",
    "    images = []\n",
    "    activations = {}\n",
    "    def get_activation(name):\n",
    "        def hook(model, input, output):\n",
    "            activations[name] = output.detach()\n",
    "        return hook\n",
    "    model.classifier[4].register_forward_hook(get_activation('classifier'))\n",
    "    for image_path in image_paths:\n",
    "        img = Image.open(image_path)\n",
    "        # Preprocess images\n",
    "        image = preprocess(img)\n",
    "        # Add batch dimension\n",
    "        img_tensor = image.unsqueeze(0)\n",
    "        # Get penultimate layer activations\n",
    "        output = model(img_tensor)\n",
    "        penultimate_layer_activation = activations['classifier'][0].numpy()\n",
    "        \n",
    "        images.append(penultimate_layer_activation)\n",
    "    \n",
    "    #Getting Accuracy Scores by comparing two images to a target image\n",
    "\n",
    "    total = 0\n",
    "    correct= 0\n",
    "\n",
    "    for i in range (start_num,int(end_num),5):\n",
    "        r1 = np.random.randint(0,5)\n",
    "        r2 = np.random.randint(0,5)\n",
    "        while r2==r1:\n",
    "            r2 = np.random.randint(0,5)\n",
    "        for j in range (start_num,int(end_num),5):\n",
    "            if(i!=j):\n",
    "                dist = 1 - pearsonr(images[i+r1],images[i+r2]).statistic\n",
    "                dist2 = 1 - pearsonr(images[i+r1],images[j+r2]).statistic\n",
    "                total+=1\n",
    "                if(dist<dist2):\n",
    "                    correct+=1\n",
    "            \n",
    "    accuracy = correct/total\n",
    "    \n",
    "    return accuracy\n",
    "    "
   ]
  },
  {
   "cell_type": "code",
   "execution_count": 9,
   "metadata": {},
   "outputs": [],
   "source": [
    "def target_matching_resnet(model, stimuli_path, start_num,end_num):\n",
    "    image_folder = stimuli_path\n",
    "    image_paths = [os.path.join(image_folder, f) for f in os.listdir(image_folder) if f.endswith('.jpg')]\n",
    "    images = []\n",
    "    activations = {}\n",
    "    def get_activation(name):\n",
    "        def hook(model, input, output):\n",
    "            activations[name] = output.detach()\n",
    "        return hook\n",
    "    model.last_linear.register_forward_hook(get_activation('classifier'))\n",
    "    for image_path in image_paths:\n",
    "        img = Image.open(image_path)\n",
    "        # Preprocess images\n",
    "        image = preprocess(img)\n",
    "        # Add batch dimension\n",
    "        img_tensor = image.unsqueeze(0)\n",
    "        # Get penultimate layer activations\n",
    "        output = model(img_tensor)\n",
    "        penultimate_layer_activation = activations['classifier'][0].numpy()\n",
    "        # print(penultimate_layer_activation)\n",
    "        images.append(penultimate_layer_activation)\n",
    "    \n",
    "\n",
    "\n",
    "    #Getting Accuracy Scores by comparing two images to a target image\n",
    "    total = 0\n",
    "    correct= 0\n",
    "\n",
    "    for i in range (start_num,int(end_num),5):\n",
    "        r1 = np.random.randint(0,5)\n",
    "        r2 = np.random.randint(0,5)\n",
    "        while r2==r1:\n",
    "            r2 = np.random.randint(0,5)\n",
    "        for j in range (start_num,int(end_num),5):\n",
    "            if(i!=j):\n",
    "                dist = 1 - pearsonr(images[i+r1],images[i+r2]).statistic\n",
    "                dist2 = 1 - pearsonr(images[i+r1],images[j+r2]).statistic\n",
    "                total+=1\n",
    "                if(dist<dist2):\n",
    "                    correct+=1\n",
    "            \n",
    "    accuracy = correct/total\n",
    "    \n",
    "    return accuracy"
   ]
  },
  {
   "cell_type": "code",
   "execution_count": 22,
   "metadata": {},
   "outputs": [],
   "source": [
    "# TASK 1, Identity Matching (Checking the perforances of various CNNs trained for different specialisations on the task of identity matching)\n",
    "# Selecting the face identical to target face out of the two given face images. \n",
    "# Human Accuracy ~ 90% (Exact replication not possible as the sets of three stimuli used were not provided to us by the authors)\n",
    "\n",
    "t1_start=0\n",
    "t1_end=200\n",
    "t1_path = './Task_1/'\n",
    "\n",
    "#We run target matching task on the models on face stimulim, and get the accuracy scores\n",
    "\n",
    "FACE_ID_CNN_Accuracy1 = target_matching_resnet(FACE_ID_CNN,t1_path,t1_start,t1_end)\n",
    "untrained_Accuracy1 = target_matching_vgg16(UNTRAINED,t1_path,t1_start,t1_end)\n",
    "obj_classification_Accuracy1 = target_matching_vgg16(OBJ_CLASSIFICATION,t1_path,t1_start,t1_end)\n",
    "FACE_ID_INVERTED_CNN_Accuracy1 = target_matching_vgg16(FACE_ID_INVERTED_CNN,t1_path,t1_start,t1_end)\n",
    "FACE_ID_CNN_2_Accuracy1 = target_matching_vgg16(FACE_ID_CNN_2,t1_path,t1_start,t1_end)\n"
   ]
  },
  {
   "cell_type": "code",
   "execution_count": 27,
   "metadata": {},
   "outputs": [
    {
     "name": "stdout",
     "output_type": "stream",
     "text": [
      "FACE_ID_CNN_Accuracy1:  0.9615384615384616\n",
      "untrained_Accuracy1:  0.49935897435897436\n",
      "obj_classification_Accuracy1:  0.6173076923076923\n",
      "FACE_ID_INVERTED_CNN_Accuracy1:  0.6692307692307692\n",
      "FACE_ID_CNN_2_Accuracy1:  0.7371794871794872\n"
     ]
    }
   ],
   "source": [
    "#print all the variables from last cell here\n",
    "\n",
    "print(\"FACE_ID_CNN_Accuracy1: \", FACE_ID_CNN_Accuracy1)\n",
    "print(\"untrained_Accuracy1: \", untrained_Accuracy1)\n",
    "print(\"obj_classification_Accuracy1: \", obj_classification_Accuracy1)\n",
    "print(\"FACE_ID_INVERTED_CNN_Accuracy1: \", FACE_ID_INVERTED_CNN_Accuracy1)\n",
    "print(\"FACE_ID_CNN_2_Accuracy1: \", FACE_ID_CNN_2_Accuracy1)\n"
   ]
  },
  {
   "cell_type": "code",
   "execution_count": 38,
   "metadata": {},
   "outputs": [
    {
     "data": {
      "image/png": "[encoded data removed]",
      "text/plain": [
       "<Figure size 640x480 with 1 Axes>"
      ]
     },
     "metadata": {},
     "output_type": "display_data"
    }
   ],
   "source": [
    "# Define the names and scores of the variables\n",
    "names = ['Face ID CNN', 'Object Classification CNN', 'Untrained CNN']\n",
    "scores = [FACE_ID_CNN_Accuracy1, obj_classification_Accuracy1, untrained_Accuracy1]\n",
    "\n",
    "# Define the color and width of the bars\n",
    "bar_color = ['red', 'green', 'blue']\n",
    "bar_width = 0.5\n",
    "\n",
    "# Create a bar chart with the modified color and width\n",
    "plt.bar(names, scores, color=bar_color, width=bar_width)\n",
    "\n",
    "# Remove x-axis labels\n",
    "plt.tick_params(axis='x', which='both', bottom=False, top=False, labelbottom=False)\n",
    "\n",
    "# Create a legend mapping color to variable name\n",
    "legend_elements = [plt.Rectangle((0, 0), 1, 1, color=color) for color in bar_color]\n",
    "plt.legend(legend_elements, names, loc='upper right')\n",
    "\n",
    "# Add axis labels and title\n",
    "plt.ylabel('Accuracy scores')\n",
    "plt.title('Accuracies on Target Matching Task ')\n",
    "\n",
    "# Display the chart\n",
    "plt.show()\n"
   ]
  },
  {
   "cell_type": "code",
   "execution_count": 41,
   "metadata": {},
   "outputs": [
    {
     "ename": "TypeError",
     "evalue": "pairwise_distances() got an unexpected keyword argument 'metric'",
     "output_type": "error",
     "traceback": [
      "\u001b[1;31m---------------------------------------------------------------------------\u001b[0m",
      "\u001b[1;31mTypeError\u001b[0m                                 Traceback (most recent call last)",
      "Cell \u001b[1;32mIn[41], line 46\u001b[0m\n\u001b[0;32m     40\u001b[0m     plt\u001b[39m.\u001b[39mshow()\n\u001b[0;32m     41\u001b[0m     \u001b[39m# Calculate Spearman rank correlation between network RDM and human behavioral RDM\u001b[39;00m\n\u001b[0;32m     42\u001b[0m     \u001b[39m# spearman_corr, _ = spearmanr(rdm, human_rdm) ##not availiable-> human_rdm\u001b[39;00m\n\u001b[0;32m     43\u001b[0m     \u001b[39m# return spearman_corr\u001b[39;00m\n\u001b[1;32m---> 46\u001b[0m task2(FACE_ID_CNN)\n\u001b[0;32m     47\u001b[0m task2(UNTRAINED)\n\u001b[0;32m     48\u001b[0m task2(OBJ_CLASSIFICATION)\n",
      "Cell \u001b[1;32mIn[41], line 38\u001b[0m, in \u001b[0;36mtask2\u001b[1;34m(model)\u001b[0m\n\u001b[0;32m     32\u001b[0m     images\u001b[39m.\u001b[39mappend(penultimate_layer_activation)\n\u001b[0;32m     37\u001b[0m \u001b[39m#Generating RDMs for the model\u001b[39;00m\n\u001b[1;32m---> 38\u001b[0m RDM \u001b[39m=\u001b[39m pairwise_distances(images, metric\u001b[39m=\u001b[39;49m\u001b[39m'\u001b[39;49m\u001b[39mcorrelation\u001b[39;49m\u001b[39m'\u001b[39;49m)\n\u001b[0;32m     39\u001b[0m plt\u001b[39m.\u001b[39mimshow(RDM)\n\u001b[0;32m     40\u001b[0m plt\u001b[39m.\u001b[39mshow()\n",
      "\u001b[1;31mTypeError\u001b[0m: pairwise_distances() got an unexpected keyword argument 'metric'"
     ]
    }
   ],
   "source": [
    "#TASK 2, Alignment Task (Measuring Representational Similarity using RSA)\n",
    "#The RDMs generated for the pairwise distances between penultimate layer activations of all stimuli are to be compared to that of Human Beings.\n",
    "#Can't be compared as the Human RDMs were not provided to us by the authors.\n",
    "\n",
    "def task2(model):\n",
    "    image_folder = './Task_2/'\n",
    "    image_paths = [os.path.join(image_folder, f) for f in os.listdir(image_folder) if f.endswith('.jpg')]\n",
    "    images = []\n",
    "    activations = {}\n",
    "    def get_activation(name):\n",
    "        def hook(model, input, output):\n",
    "            activations[name] = output.detach()\n",
    "        return hook\n",
    "    if model == FACE_ID_CNN:\n",
    "        model.last_linear.register_forward_hook(get_activation('classifier'))\n",
    "    else:\n",
    "        model.classifier[4].register_forward_hook(get_activation('classifier'))\n",
    "    for image_path in image_paths:\n",
    "        img = Image.open(image_path)\n",
    "        # Preprocess images\n",
    "        img = img.convert('RGB')\n",
    "        image = preprocess(img)\n",
    "        # Add batch dimension\n",
    "        img_tensor = image.unsqueeze(0)\n",
    "        # Get penultimate layer activations\n",
    "        output = model(img_tensor)\n",
    "        #CHANGE CODE HERE\n",
    "        penultimate_layer_activation = activations['classifier'][0].numpy()\n",
    "\n",
    "\n",
    "\n",
    "        images.append(penultimate_layer_activation)\n",
    "\n",
    "\n",
    "        \n",
    "\n",
    "    #Generating RDMs for the model\n",
    "    RDM = pairwise_distances(images, metric='correlation')\n",
    "    plt.imshow(RDM)\n",
    "    plt.show()\n",
    "    # Calculate Spearman rank correlation between network RDM and human behavioral RDM\n",
    "    # spearman_corr, _ = spearmanr(rdm, human_rdm) ##not availiable-> human_rdm\n",
    "    # return spearman_corr\n",
    "\n",
    "\n",
    "task2(FACE_ID_CNN)\n",
    "task2(UNTRAINED)\n",
    "task2(OBJ_CLASSIFICATION)\n",
    "task2(FACE_ID_INVERTED_CNN)\n",
    "\n",
    "#These RDMS are to be compared to the Human RDMs, and Spearman Rank correlation is to be used to compare each of the \n",
    "#RDMs generated by the models to the Human RDMs."
   ]
  },
  {
   "cell_type": "code",
   "execution_count": null,
   "metadata": {},
   "outputs": [],
   "source": [
    "# Task 3, Similarity Matching\n",
    "# Human beings were tasked to select the face identical to target face out of the two given face images.\n",
    "# The performance of the CNNs was then compared with that of these CNNs. Since the dataset used for this task has not been provided, \n",
    "# this task cannot be replicated for the time being."
   ]
  },
  {
   "cell_type": "code",
   "execution_count": 36,
   "metadata": {},
   "outputs": [],
   "source": [
    "# Task 4, Verifying Other Race Effect and Face Inversion Effect\n",
    "\n",
    "# Human beings performed worse when they were asked to identify the target image, given two images if the faces were inverted, or \n",
    "# belonged to different ethinicities the participants were not familiar with.\n",
    "\n",
    "# Testing Face Inversion Effect:\n",
    "\n",
    "t4i_start=0\n",
    "t4i_end=200\n",
    "t4i_path = './Task_4_inversion/'\n",
    "\n",
    "FACE_ID_CNN_Accuracy4i = target_matching_resnet(FACE_ID_CNN,t4i_path,t4i_start,t4i_end)\n",
    "untrained_Accuracy4i = target_matching_vgg16(UNTRAINED,t4i_path,t4i_start,t4i_end)\n",
    "obj_classification_Accuracy4i = target_matching_vgg16(OBJ_CLASSIFICATION,t4i_path,t4i_start,t4i_end)\n",
    "FACE_ID_INVERTED_CNN_Accuracy4i = target_matching_vgg16(FACE_ID_INVERTED_CNN,t4i_path,t4i_start,t4i_end)\n",
    "FACE_ID_CNN_2_Accuracy4i = target_matching_vgg16(FACE_ID_CNN_2,t4i_path,t4i_start,t4i_end)"
   ]
  },
  {
   "cell_type": "code",
   "execution_count": 40,
   "metadata": {},
   "outputs": [
    {
     "name": "stdout",
     "output_type": "stream",
     "text": [
      "FACE_ID_CNN_Accuracy4i:  0.6993589743589743\n",
      "untrained_Accuracy4i:  0.5147435897435897\n",
      "obj_classification_Accuracy4i:  0.6352564102564102\n",
      "FACE_ID_CNN_2_Accuracy4i:  0.6423076923076924\n"
     ]
    }
   ],
   "source": [
    "#print the above variables here\n",
    "print(\"FACE_ID_CNN_Accuracy4i: \", FACE_ID_CNN_Accuracy4i)\n",
    "print(\"untrained_Accuracy4i: \", untrained_Accuracy4i)\n",
    "print(\"obj_classification_Accuracy4i: \", obj_classification_Accuracy4i)"
   ]
  },
  {
   "cell_type": "code",
   "execution_count": 56,
   "metadata": {},
   "outputs": [
    {
     "data": {
      "image/png": "[encoded data removed]",
      "text/plain": [
       "<Figure size 640x480 with 1 Axes>"
      ]
     },
     "metadata": {},
     "output_type": "display_data"
    }
   ],
   "source": [
    "import numpy as np\n",
    "import matplotlib.pyplot as plt\n",
    " \n",
    "# Define the names and scores of the variables\n",
    "names = ['Face ID CNN', 'Object Classification CNN', 'Untrained CNN']\n",
    "scores1 = [FACE_ID_CNN_Accuracy1, obj_classification_Accuracy1, untrained_Accuracy1]\n",
    "scores2 = [FACE_ID_CNN_Accuracy4i, obj_classification_Accuracy4i, untrained_Accuracy4i]\n",
    "\n",
    "# Define the color and width of the bars\n",
    "bar_color = ['red', 'orange', 'yellow']\n",
    "bar_width = 0.25\n",
    "legend_color = [(0.2, 0.2, 0.2, 1.0), (0.5, 0.5, 0.5, 1.0) ] \n",
    "\n",
    "# Create a figure with a single subplot\n",
    "fig, ax = plt.subplots()\n",
    "\n",
    "# Create the first set of bars for each label\n",
    "ax.bar(np.arange(len(names))-bar_width/2, scores1, width=bar_width, color=bar_color)\n",
    "\n",
    "# Create the second set of bars for each label\n",
    "ax.bar(np.arange(len(names))+bar_width/2, scores2, width=bar_width, color=bar_color, alpha=0.5)\n",
    "\n",
    "# Set the x-ticks to the label names\n",
    "ax.set_xticks(np.arange(len(names)))\n",
    "ax.set_xticklabels(names)\n",
    "\n",
    "# Set the y-axis label and limits\n",
    "ax.set_ylabel('Accuracy Scores')\n",
    "ax.set_ylim([0,1])\n",
    "\n",
    "# Add a legend mapping alpha values to variable names\n",
    "legend_elements = [plt.Rectangle((0, 0), 1, 1, alpha=0.5, color=color) for color in legend_color]\n",
    "ax.legend(legend_elements, ['Upright Faces', 'Inverted Faces'], loc='upper right')\n",
    "\n",
    "# Adjust the layout to prevent clipping of x-axis labels\n",
    "plt.tight_layout()\n",
    "\n",
    "# Display the chart\n",
    "plt.show()\n"
   ]
  },
  {
   "cell_type": "code",
   "execution_count": null,
   "metadata": {},
   "outputs": [],
   "source": [
    "# Testing Other Race Effect:\n",
    "# We take CNNs trained only on white faces, and compare this with the performance on target matching as Task 1 with Asian Faces and White faces.\n",
    "# We then take a CNN based on the same architecture, but trained on Asian faces, and compare this with the performance on target matching as Task 1 with Asian Faces and White faces.\n",
    "# The performance drops can be compared with that observed in white and asian participants who underwent this task. \n",
    "\n",
    "\n",
    "\n",
    "t4a_start=0\n",
    "t4a_end=200\n",
    "t4a_path = './Task_4_other_race/Asian/'\n",
    "\n",
    "FACE_ID_CNN_Accuracy4i = target_matching_resnet(FACE_ID_CNN,t4a_path,t4a_start,t4a_end)\n",
    "untrained_Accuracy4i = target_matching_vgg16(UNTRAINED,t4a_path,t4a_start,t4a_end)\n",
    "obj_classification_Accuracy4i = target_matching_vgg16(OBJ_CLASSIFICATION,t4a_path,t4a_start,t4a_end)\n",
    "FACE_ID_ASIAN_CNN_Accuracy4i = target_matching_vgg16(ASIAN_FACE_ID_CNN,t4a_path,t4a_start,t4a_end)\n",
    "FACE_ID_CNN_2_Accuracy4i = target_matching_vgg16(FACE_ID_CNN_2,t4a_path,t4a_start,t4a_end)\n",
    "\n",
    "# FACE_ID_WHITE_CNN_Accuracy4_Asian = task4_Asian(FACE_ID_WHITE_CNN)\n",
    "# FACE_ID_WHITE_CNN_Accuracy4_White = task4_White(FACE_ID_WHITE_CNN)\n",
    "# FACE_ID_ASIAN_CNN_Accuracy4_Asian = task4_Asian(FACE_ID_ASIAN_CNN)\n",
    "# FACE_ID_ASIAN_CNN_Accuracy4_White = task4_White(FACE_ID_ASIAN_CNN)\n",
    "#untrained_Accuracy4_Asian = task4_Asian(UNTRAINED)\n",
    "#untrained_Accuracy4_White = task4_White(UNTRAINED)\n",
    "#obj_classification_Accuracy4_Asian = task4_Asian(OBJ_CLASSIFICATION)\n",
    "#obj_classification_Accuracy4_White = task4_White(OBJ_CLASSIFICATION)\n",
    "#obj_face_classification_Accuracy4_Asian = task4_Asian(OBJ_FACE_CLASSIFICATION)\n",
    "#obj_face_classification_Accuracy4_White = task4_White(OBJ_FACE_CLASSIFICATION)\n",
    "\n",
    "#Plotting the results\n"
   ]
  },
  {
   "cell_type": "code",
   "execution_count": null,
   "metadata": {},
   "outputs": [],
   "source": [
    "# Task 5, Inverted Inversion Effect\n",
    "# We wish to find out if the drop in performance in inverted faces is 'special' in any sort of way, or is ir just a result of optimisation of \n",
    "# our perceptual system. \n",
    "# We check the perforance of the Face ID CNN on upright and inverted images and compare how it fares when a CNN trained on inverted faces is\n",
    "# tested on upright faces as well as inverted faces.\n",
    "\n",
    "# We also check if such a drop in performance occurs in a CNN specialised in recognising a particular object (We take the example of cars in this case)\n",
    "# we see if the performance drop occurs when inverted images of cars are presented to these CNNs.\n",
    "\n",
    "#Inverted Face Inversion Effect\n",
    "\n",
    "# FACE_ID_INVERTED_CNN_Accuracy5_inverted = task4_inversion(FACE_ID_INVERTED_CNN)\n",
    "# FACE_ID_INVERTED_CNN_Accuracy5 = task1(FACE_ID_INVERTED_CNN)\n",
    "\n",
    "#Plot a bar graph with FACE_ID_CNN_Accuracy1, FACE_ID_CNN_Accuracy4_Inverted, FACE_ID_INVERTED_CNN_Accuracy5_inverted and FACE_ID_INVERTED_CNN_Accuracy5 on the x axis and y axis as the accuracy scores."
   ]
  }
 ],
 "metadata": {
  "kernelspec": {
   "display_name": "Python 3",
   "language": "python",
   "name": "python3"
  },
  "language_info": {
   "codemirror_mode": {
    "name": "ipython",
    "version": 3
   },
   "file_extension": ".py",
   "mimetype": "text/x-python",
   "name": "python",
   "nbconvert_exporter": "python",
   "pygments_lexer": "ipython3",
   "version": "3.11.3"
  },
  "orig_nbformat": 4
 },
 "nbformat": 4,
 "nbformat_minor": 2
}
