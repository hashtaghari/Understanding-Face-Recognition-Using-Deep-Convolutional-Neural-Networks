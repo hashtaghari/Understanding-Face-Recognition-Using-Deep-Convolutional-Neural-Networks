{
 "cells": [
  {
   "cell_type": "code",
   "execution_count": 4,
   "metadata": {},
   "outputs": [],
   "source": [
    "import os\n",
    "import shutil\n",
    "\n",
    "# Get all directory names in the source folder\n",
    "source_dir = './Cars'\n",
    "dir_names = os.listdir(source_dir)\n",
    "\n",
    "# Delete directories in the destination folder that do not belong to the list\n",
    "dest_dir = './Cars_Stimuli'\n",
    "for dir in os.listdir(dest_dir):\n",
    "    if dir not in dir_names:\n",
    "        dir_path = os.path.join(dest_dir, dir)\n",
    "        if os.path.isdir(dir_path):\n",
    "            shutil.rmtree(dir_path)\n"
   ]
  },
  {
   "cell_type": "code",
   "execution_count": 3,
   "metadata": {},
   "outputs": [],
   "source": [
    "import os\n",
    "from PIL import Image\n",
    "\n",
    "# Specify the root directory\n",
    "root_dir = './Cars_Stimuli_Inverted'\n",
    "\n",
    "# Loop over each directory in the root directory\n",
    "for dirpath, dirnames, filenames in os.walk(root_dir):\n",
    "    # Loop over each file in the directory\n",
    "    for filename in filenames:\n",
    "        # Check if the file is a JPEG image\n",
    "        if filename.lower().endswith('.jpg'):\n",
    "            # Construct the full path to the file\n",
    "            file_path = os.path.join(dirpath, filename)\n",
    "            # Open the image file using PIL\n",
    "            with Image.open(file_path) as img:\n",
    "                # Rotate the image 90 degrees clockwise\n",
    "                rotated_img = img.rotate(180, expand=True)\n",
    "                # Overwrite the original image file with the rotated image\n",
    "                rotated_img.save(file_path)\n"
   ]
  }
 ],
 "metadata": {
  "kernelspec": {
   "display_name": "Python 3",
   "language": "python",
   "name": "python3"
  },
  "language_info": {
   "codemirror_mode": {
    "name": "ipython",
    "version": 3
   },
   "file_extension": ".py",
   "mimetype": "text/x-python",
   "name": "python",
   "nbconvert_exporter": "python",
   "pygments_lexer": "ipython3",
   "version": "3.11.3"
  },
  "orig_nbformat": 4
 },
 "nbformat": 4,
 "nbformat_minor": 2
}
