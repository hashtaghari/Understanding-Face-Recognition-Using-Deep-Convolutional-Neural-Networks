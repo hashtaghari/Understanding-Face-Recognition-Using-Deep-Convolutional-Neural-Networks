{
 "cells": [
  {
   "cell_type": "code",
   "execution_count": 3,
   "metadata": {},
   "outputs": [],
   "source": [
    "import torch.nn as nn\n",
    "import torchvision.transforms as transforms\n",
    "from torch.utils.data import DataLoader\n",
    "from torchvision.datasets import ImageFolder\n",
    "from torchvision.models import vgg16\n",
    "from tqdm.notebook import tqdm\n",
    "import os\n",
    "import torch"
   ]
  },
  {
   "cell_type": "code",
   "execution_count": 4,
   "metadata": {},
   "outputs": [],
   "source": [
    "data_transforms = transforms.Compose([\n",
    "    transforms.Resize((224, 224)),\n",
    "    transforms.ToTensor(),\n",
    "    transforms.Normalize([0.485, 0.456, 0.406], [0.229, 0.224, 0.225])\n",
    "])"
   ]
  },
  {
   "cell_type": "code",
   "execution_count": 10,
   "metadata": {},
   "outputs": [],
   "source": [
    "def train_CNN(name,dataset_name):\n",
    "    # Define data directory and image transforms\n",
    "    data_dir = './Data/'\n",
    "    # Create PyTorch datasets and dataloaders\n",
    "    dataset = ImageFolder(os.path.join(data_dir, dataset_name), transform=data_transforms)\n",
    "    dataloader = DataLoader(dataset, batch_size=32, shuffle=True)\n",
    "    # number of classes as number of directories in data_dir\n",
    "    num_classes = len(os.listdir(data_dir + dataset_name))\n",
    "    # Create VGG16 model with 5 neurons in last layer\n",
    "    model = vgg16(pretrained=True)\n",
    "    for param in model.parameters():\n",
    "        param.requires_grad = False\n",
    "    num_features = model.classifier[6].in_features\n",
    "    model.classifier[6] = nn.Linear(num_features, num_classes)\n",
    "    # make progress bar using tqdm\n",
    "    # tqdm._instances.clear()\n",
    "    \n",
    "    # Train the model\n",
    "    i=0\n",
    "    device = torch.device('cuda' if torch.cuda.is_available() else 'cpu')\n",
    "    print(device)\n",
    "    model.to(device)\n",
    "    model = model.train()\n",
    "    criterion = nn.CrossEntropyLoss()\n",
    "    optimizer = torch.optim.SGD(model.parameters(), lr=0.001, momentum=0.9)\n",
    "    num_epochs = 10\n",
    "    for epoch in range(num_epochs):\n",
    "        running_loss = 0.0\n",
    "        for inputs, labels in dataloader:\n",
    "            inputs, labels = inputs.to(device), labels.to(device)\n",
    "            optimizer.zero_grad()\n",
    "            outputs = model(inputs)\n",
    "            # print(len(outputs))\n",
    "            # print(len(labels))\n",
    "            # print(inputs.shape)\n",
    "            # print(outputs.shape)\n",
    "            # print(labels)\n",
    "            loss = criterion(outputs, labels)\n",
    "            loss.backward()\n",
    "            optimizer.step()\n",
    "            running_loss += loss.item() * inputs.size(0)\n",
    "            i+=1\n",
    "            if i%100==0:\n",
    "                print('Iteration loss: {:.4f}'.format(loss.item()))\n",
    "        epoch_loss = running_loss / len(dataset)\n",
    "        print('Epoch {}/{} loss: {:.4f}'.format(epoch+1, num_epochs, epoch_loss))\n",
    "    #save the model at path ../models/name.pth\n",
    "    torch.save(model.state_dict(), '../models/'+name+'.pth')\n",
    "    print('Successfully trained ' + name + '!' )\n"
   ]
  },
  {
   "cell_type": "code",
   "execution_count": 6,
   "metadata": {},
   "outputs": [],
   "source": [
    "#code if you wish to load model named 'name' from path '../models/name.pth'\n",
    "def load_model_name(name):\n",
    "    model1 = vgg16(pretrained=True)\n",
    "    for param in model1.parameters():\n",
    "        param.requires_grad = False\n",
    "    num_features = model1.classifier[6].in_features\n",
    "    model1.classifier[6] = nn.Linear(num_features, 5)\n",
    "    model1.load_state_dict(torch.load('../models/'+name+'.pth'))\n",
    "    model1.eval()\n",
    "    return model1"
   ]
  },
  {
   "cell_type": "code",
   "execution_count": 7,
   "metadata": {},
   "outputs": [
    {
     "name": "stdout",
     "output_type": "stream",
     "text": [
      "cpu\n"
     ]
    }
   ],
   "source": [
    "device = torch.device('cuda' if torch.cuda.is_available() else 'cpu')\n",
    "print(device)"
   ]
  },
  {
   "cell_type": "code",
   "execution_count": 8,
   "metadata": {},
   "outputs": [],
   "source": [
    "#code to rotate images by 180 degrees in a directory\n",
    "\n",
    "# from PIL import Image,ImageOps\n",
    "# import os\n",
    "\n",
    "# # Define the directory containing the images\n",
    "# directory = './data/Face_Inverted'\n",
    "\n",
    "# # Loop through all subdirectories and files in the directory\n",
    "# for root, directories, files in os.walk(directory):\n",
    "#     for file in files:\n",
    "#         # Check if the file is an image\n",
    "#         if file.endswith(('png', 'jpg', 'jpeg')):\n",
    "#             # Open the image and invert it\n",
    "#             image_path = os.path.join(root, file)\n",
    "#             image = Image.open(image_path)\n",
    "#             rotated_image = image.rotate(180)\n",
    "#             # Save the rotated image\n",
    "#             rotated_image.save(image_path)\n",
    "\n"
   ]
  },
  {
   "cell_type": "code",
   "execution_count": 12,
   "metadata": {},
   "outputs": [],
   "source": [
    "#Gotta train these four:\n",
    "\n",
    "# train_CNN('Face_ID_Inverted_CNN','Face_Inverted')\n",
    "# train_CNN('Asian_Face_ID_CNN','Asian_Faces')\n",
    "# train_CNN('White_Face_ID_CNN','White_Faces')\n",
    "# train_CNN('Face_ID_CNN','Face_Inverted_original')\n",
    "\n",
    "\n"
   ]
  }
 ],
 "metadata": {
  "kernelspec": {
   "display_name": "Python 3",
   "language": "python",
   "name": "python3"
  },
  "language_info": {
   "codemirror_mode": {
    "name": "ipython",
    "version": 3
   },
   "file_extension": ".py",
   "mimetype": "text/x-python",
   "name": "python",
   "nbconvert_exporter": "python",
   "pygments_lexer": "ipython3",
   "version": "3.11.1"
  },
  "orig_nbformat": 4
 },
 "nbformat": 4,
 "nbformat_minor": 2
}
