{
  "cells": [
    {
      "cell_type": "code",
      "execution_count": 1,
      "metadata": {
        "id": "If_WphlCKqfD"
      },
      "outputs": [],
      "source": [
        "import torch.nn as nn\n",
        "import torchvision.transforms as transforms\n",
        "from torch.utils.data import DataLoader\n",
        "from torchvision.datasets import ImageFolder\n",
        "from torchvision.models import vgg16\n",
        "from tqdm.notebook import tqdm\n",
        "import os\n",
        "import torch"
      ]
    },
    {
      "cell_type": "code",
      "execution_count": 2,
      "metadata": {
        "id": "NCmuf42gKxnc"
      },
      "outputs": [],
      "source": [
        "data_transforms = transforms.Compose([\n",
        "    transforms.Resize((224, 224)),\n",
        "    transforms.ToTensor(),\n",
        "    transforms.Normalize([0.485, 0.456, 0.406], [0.229, 0.224, 0.225])\n",
        "])"
      ]
    },
    {
      "cell_type": "code",
      "execution_count": 3,
      "metadata": {
        "id": "NsJ6xsWlKzkL"
      },
      "outputs": [],
      "source": [
        "def train_CNN(name,dataset_name):\n",
        "    # Define data directory and image transforms\n",
        "    data_dir = './drive/MyDrive/Colab Notebooks/Data/' #or data2, depending on which dataset you want to use\n",
        "    # Create PyTorch datasets and dataloaders\n",
        "    dataset = ImageFolder(os.path.join(data_dir, dataset_name), transform=data_transforms)\n",
        "    dataloader = DataLoader(dataset, batch_size=32, shuffle=True)\n",
        "    # number of classes as number of directories in data_dir\n",
        "    num_classes = len(os.listdir(data_dir + dataset_name))\n",
        "    # Create VGG16 model with 5 neurons in last layer\n",
        "    model = vgg16(pretrained=True)\n",
        "    for param in model.parameters():\n",
        "        param.requires_grad = False\n",
        "    num_features = model.classifier[6].in_features\n",
        "    model.classifier[6] = nn.Linear(num_features, num_classes)\n",
        "    # make progress bar using tqdm\n",
        "    # tqdm._instances.clear()\n",
        "    \n",
        "    # Train the model\n",
        "    i=0\n",
        "    device = torch.device('cuda' if torch.cuda.is_available() else 'cpu')\n",
        "    print(device)\n",
        "    model.to(device)\n",
        "    model = model.train()\n",
        "    criterion = nn.CrossEntropyLoss()\n",
        "    optimizer = torch.optim.SGD(model.parameters(), lr=0.001, momentum=0.9)\n",
        "    num_epochs = 15\n",
        "    for epoch in range(num_epochs):\n",
        "        running_loss = 0.0\n",
        "        for inputs, labels in dataloader:\n",
        "            inputs, labels = inputs.to(device), labels.to(device)\n",
        "            optimizer.zero_grad()\n",
        "            outputs = model(inputs)\n",
        "            # print(len(outputs))\n",
        "            # print(len(labels))\n",
        "            # print(inputs.shape)\n",
        "            # print(outputs.shape)\n",
        "            # print(labels)\n",
        "            loss = criterion(outputs, labels)\n",
        "            loss.backward()\n",
        "            optimizer.step()\n",
        "            running_loss += loss.item() * inputs.size(0)\n",
        "            i+=1\n",
        "            if i%100==0:\n",
        "                print('Iteration loss: {:.4f}'.format(loss.item()))\n",
        "        epoch_loss = running_loss / len(dataset)\n",
        "        print('Epoch {}/{} loss: {:.4f}'.format(epoch+1, num_epochs, epoch_loss))\n",
        "    #save the model at path ../models/name.pth\n",
        "    torch.save(model.state_dict(), './'+name+'.pth')\n",
        "    torch.save(model.state_dict(), './drive/MyDrive/Colab Notebooks/'+ name + '.pth')\n",
        "    print('Successfully trained ' + name + '!' )"
      ]
    },
    {
      "cell_type": "code",
      "execution_count": null,
      "metadata": {
        "colab": {
          "base_uri": "https://localhost:8080/"
        },
        "id": "oXtdleraLIfk",
        "outputId": "837a88c1-be96-4155-aedc-2589ca11257a"
      },
      "outputs": [
        {
          "name": "stderr",
          "output_type": "stream",
          "text": [
            "/usr/local/lib/python3.10/dist-packages/torchvision/models/_utils.py:208: UserWarning: The parameter 'pretrained' is deprecated since 0.13 and may be removed in the future, please use 'weights' instead.\n",
            "  warnings.warn(\n",
            "/usr/local/lib/python3.10/dist-packages/torchvision/models/_utils.py:223: UserWarning: Arguments other than a weight enum or `None` for 'weights' are deprecated since 0.13 and may be removed in the future. The current behavior is equivalent to passing `weights=VGG16_Weights.IMAGENET1K_V1`. You can also use `weights=VGG16_Weights.DEFAULT` to get the most up-to-date weights.\n",
            "  warnings.warn(msg)\n",
            "Downloading: \"https://download.pytorch.org/models/vgg16-397923af.pth\" to /root/.cache/torch/hub/checkpoints/vgg16-397923af.pth\n",
            "100%|██████████| 528M/528M [00:02<00:00, 221MB/s]\n"
          ]
        },
        {
          "name": "stdout",
          "output_type": "stream",
          "text": [
            "cuda\n"
          ]
        }
      ],
      "source": [
        "# train_CNN('White_Face_ID_CNN','White_Faces')\n",
        "# train_CNN('Asian_Face_ID_CNN','Asian_Faces')\n",
        "# train_CNN('Obj_Face_Cat_CNN','Obj-Face dataset')\n",
        "# train_CNN('Cars_CNN','Cars')\n",
        "# train_CNN('Face_ID_CNN_2','Faces')\n",
        "# train_CNN('Face_ID_Inverted_CNN','Faces_Inverted')"
      ]
    }
  ],
  "metadata": {
    "accelerator": "GPU",
    "colab": {
      "gpuType": "T4",
      "provenance": []
    },
    "gpuClass": "standard",
    "kernelspec": {
      "display_name": "Python 3",
      "name": "python3"
    },
    "language_info": {
      "name": "python"
    }
  },
  "nbformat": 4,
  "nbformat_minor": 0
}
